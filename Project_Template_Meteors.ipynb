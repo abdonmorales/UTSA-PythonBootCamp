{
  "nbformat": 4,
  "nbformat_minor": 0,
  "metadata": {
    "colab": {
      "name": "Project Template Meteors.ipynb",
      "provenance": [],
      "include_colab_link": true
    },
    "kernelspec": {
      "name": "python3",
      "display_name": "Python 3"
    },
    "language_info": {
      "name": "python"
    }
  },
  "cells": [
    {
      "cell_type": "markdown",
      "metadata": {
        "id": "view-in-github",
        "colab_type": "text"
      },
      "source": [
        "<a href=\"https://colab.research.google.com/github/abdonmorales/UTSA-PythonBootCamp/blob/project/Project_Template_Meteors.ipynb\" target=\"_parent\"><img src=\"https://colab.research.google.com/assets/colab-badge.svg\" alt=\"Open In Colab\"/></a>"
      ]
    },
    {
      "cell_type": "code",
      "execution_count": null,
      "metadata": {
        "id": "XVaqTs6Txk6f"
      },
      "outputs": [],
      "source": [
        "import pandas as pd\n",
        "import numpy as np\n",
        "import matplotlib.pyplot as plt\n",
        "from scipy import interpolate,stats\n",
        "import json\n",
        "from urllib.request import urlopen"
      ]
    },
    {
      "cell_type": "markdown",
      "source": [
        "You will be working with data recorded by Nasa and provided publically online. You can find the data [here](https://cneos.jpl.nasa.gov/nhats/#). The dataset records an array of information on near earth astroids, and is provided for users to identify asteroids that will be traveling near the earth and their properties. We will focus on three of these properties, which are described below:\n",
        "\n",
        "\n",
        "\n",
        "1.   min_size : The minimum estimated size of the object\n",
        "2.   max_size : The maximum estimated size of the object\n",
        "3.   h : The absolute visual magnitude of the object\n",
        "\n",
        "You will process this data and make conclusions about it through the use of data analysis methods. "
      ],
      "metadata": {
        "id": "dsvxkYLjyxtL"
      }
    },
    {
      "cell_type": "code",
      "execution_count": null,
      "metadata": {
        "id": "IQ3reeXuRGCQ"
      },
      "outputs": [],
      "source": [
        "url = \"https://ssd-api.jpl.nasa.gov/nhats.api\"\n",
        "response = urlopen(url)\n",
        "data_json = json.loads(response.read())\n",
        "data = pd.DataFrame(data_json[\"data\"])[['h','min_size','max_size']].astype(float)\n",
        "del data_json"
      ]
    },
    {
      "cell_type": "code",
      "source": [
        "print(data.info())"
      ],
      "metadata": {
        "colab": {
          "base_uri": "https://localhost:8080/"
        },
        "id": "sn66ESdjyUm1",
        "outputId": "ada8f22b-c328-4c61-9086-e0d5f6c2db17"
      },
      "execution_count": null,
      "outputs": [
        {
          "output_type": "stream",
          "name": "stdout",
          "text": [
            "<class 'pandas.core.frame.DataFrame'>\n",
            "RangeIndex: 4337 entries, 0 to 4336\n",
            "Data columns (total 3 columns):\n",
            " #   Column    Non-Null Count  Dtype  \n",
            "---  ------    --------------  -----  \n",
            " 0   h         4337 non-null   float64\n",
            " 1   min_size  4337 non-null   float64\n",
            " 2   max_size  4337 non-null   float64\n",
            "dtypes: float64(3)\n",
            "memory usage: 101.8 KB\n",
            "None\n"
          ]
        }
      ]
    }
  ]
}