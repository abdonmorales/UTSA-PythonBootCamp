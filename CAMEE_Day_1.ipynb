{
  "nbformat": 4,
  "nbformat_minor": 0,
  "metadata": {
    "colab": {
      "name": "CAMEE Day 1.ipynb",
      "provenance": [],
      "collapsed_sections": [],
      "include_colab_link": true
    },
    "kernelspec": {
      "name": "python3",
      "display_name": "Python 3"
    },
    "language_info": {
      "name": "python"
    }
  },
  "cells": [
    {
      "cell_type": "markdown",
      "metadata": {
        "id": "view-in-github",
        "colab_type": "text"
      },
      "source": [
        "<a href=\"https://colab.research.google.com/github/abdonmorales/UTSA-PythonBootCamp/blob/main/CAMEE_Day_1.ipynb\" target=\"_parent\"><img src=\"https://colab.research.google.com/assets/colab-badge.svg\" alt=\"Open In Colab\"/></a>"
      ]
    },
    {
      "cell_type": "markdown",
      "source": [
        "# Day One Coding\n",
        "This notebook will go over many of the concepts discussed during todays lecture along with some other basic concepts needed for writing a Python code."
      ],
      "metadata": {
        "id": "ZzZsoNOp03Jy"
      }
    },
    {
      "cell_type": "markdown",
      "source": [
        "## Importing Packages and Libraries\n",
        "An example of importing packages and libraries can be seen below:\n",
        "```\n",
        "import __package__\n",
        "```\n",
        "When importing like this, the name of the package is used to call it, such as:\n",
        "```\n",
        "__package__.function()\n",
        "```\n",
        "You can also give a nickname to the package to make calling it easier. This is commonly done for packages that you will call often, such as numpy.\n",
        "```\n",
        "import numpy as np\n",
        "\n",
        "np.array()\n",
        "```\n",
        "Finally, you can import specific functions in a package too if you only need one:\n",
        "```\n",
        "from numpy.random import randint\n",
        "\n",
        "randint(0, 10)\n",
        "```\n",
        "\n",
        "\n",
        "\n"
      ],
      "metadata": {
        "id": "z1xNbK-F3fAR"
      }
    },
    {
      "cell_type": "code",
      "source": [
        "import math\n",
        "import numpy as np"
      ],
      "metadata": {
        "id": "XcmgAHeaZdBz"
      },
      "execution_count": null,
      "outputs": []
    },
    {
      "cell_type": "markdown",
      "source": [
        "# Object Oriented Programming\n",
        "In the lecture, object oriented programming (OOP) was introduced along with its three traits. As a reminder, OOP is based around the \"object\", a group of data and code that serves a certain function. The three traits of OOP are:\n",
        "\n",
        "1.   Encapsulation\n",
        "2.   Inheritance\n",
        "4.   Polymorphism\n",
        "\n",
        "These will be explored below in more detail.\n",
        "\n"
      ],
      "metadata": {
        "id": "Wg8zTul--FTj"
      }
    },
    {
      "cell_type": "markdown",
      "source": [
        "## Encapsulation\n",
        "Encapsulation is the concept that the information in a class is protected from the rest of the code. In general, one class should not have direct access to data of another class, and instead access should be provided thorugh a function instead. Control of access to variables can be accomplished thorough the use of access modifiers."
      ],
      "metadata": {
        "id": "5ekB3TTQBda_"
      }
    },
    {
      "cell_type": "markdown",
      "source": [
        "### Access Modifiers\n",
        "Access modifiers are used to modify the scope of variables. There are three types of access modifiers: public, protected, and private.\n",
        "\n",
        "A public variable can be accessed from inside the class, outside the class, and outside the module.\n",
        "\n",
        "A protected variable can be accessed inside and outside the class, but not outside the module. It is signified by adding an underscore (_) before the variable's name.\n",
        "\n",
        "A private variable is one that can only be accessed inside the class. This also excludes subclasses. A private variable is signified by a double underscore (__) before the variable name.\n",
        "\n",
        "An example class is created below that contains a public, protected, and private variable. The class also includes three functions that print the value of each of these variables. "
      ],
      "metadata": {
        "id": "Mi582xK-M0MZ"
      }
    },
    {
      "cell_type": "code",
      "source": [
        "class example_class:\n",
        "  def __init__(self):\n",
        "    self.public_variable = \"This is a public variable.\"\n",
        "    self._protected_variable = \"This is a protected variable.\"\n",
        "    self.__private_variable = \"This is a private variable\"\n",
        "\n",
        "  def print_public_variable(self):\n",
        "    print(self.public_variable)\n",
        "\n",
        "  def print_protected_variable(self):\n",
        "    print(self._protected_variable)\n",
        "\n",
        "  def print_private_variable(self):\n",
        "    print(self.__private_variable)\n"
      ],
      "metadata": {
        "id": "5YeDk0ivBzK3"
      },
      "execution_count": null,
      "outputs": []
    },
    {
      "cell_type": "markdown",
      "source": [
        "The first example will be calling the variables from within the class through the three functions print_public_variable, print_protected_variable, and print_private_variable. As expected, all three values can be printed because they are available from within the class. "
      ],
      "metadata": {
        "id": "PrspUCzuIltB"
      }
    },
    {
      "cell_type": "code",
      "source": [
        "example = example_class()\n",
        "\n",
        "print(\"All three are being called from within the class through the functions.\")\n",
        "example.print_public_variable()\n",
        "example.print_protected_variable()\n",
        "example.print_private_variable()"
      ],
      "metadata": {
        "colab": {
          "base_uri": "https://localhost:8080/"
        },
        "id": "ADjYhP5iEAdU",
        "outputId": "2162ff07-38e4-4549-d70a-f9e081ce0cbf"
      },
      "execution_count": null,
      "outputs": [
        {
          "output_type": "stream",
          "name": "stdout",
          "text": [
            "All three are being called from within the class through the functions.\n",
            "This is a public variable.\n",
            "This is a protected variable.\n",
            "This is a private variable\n"
          ]
        }
      ]
    },
    {
      "cell_type": "markdown",
      "source": [
        "The second example attempts to call all three variables from outside the class. This results in the public and protected variables being printed, but the private variable is unavailable because it is outside the class."
      ],
      "metadata": {
        "id": "aIyspb4aLK0s"
      }
    },
    {
      "cell_type": "code",
      "source": [
        "example = example_class()\n",
        "\n",
        "print(\"All three are being called from within the class through the functions.\")\n",
        "print(example.public_variable)\n",
        "print(example._protected_variable)\n",
        "print(example.__private_variable)"
      ],
      "metadata": {
        "id": "4Wfd2qYAJhyc"
      },
      "execution_count": null,
      "outputs": []
    },
    {
      "cell_type": "markdown",
      "source": [
        "## Inheritance\n",
        "Inheritance is the concept that a child class inherits some characteristics from it's parent in addition to having its own unique characteristics. \n",
        "\n",
        "A common example for inheritance is modeling people as classes. This example is shown below using a Person and Worker class. "
      ],
      "metadata": {
        "id": "IyQpIVQrSdHc"
      }
    },
    {
      "cell_type": "code",
      "source": [
        "class Person():\n",
        "  def __init__(self,name, age):\n",
        "    self.name = name\n",
        "    self.age = age\n",
        "\n",
        "  def print_name(self):\n",
        "    print(self.name)\n",
        "\n",
        "class Worker(Person):\n",
        "  def __init__(self,name,age,job):\n",
        "    Person.__init__(self,name,age)\n",
        "    self.job = job\n",
        "\n",
        "  def print_job(self):\n",
        "    print(self.job)"
      ],
      "metadata": {
        "id": "_A76URjVTnmK"
      },
      "execution_count": null,
      "outputs": []
    },
    {
      "cell_type": "code",
      "source": [
        "farmer_john = Worker(\"John Doe\", 25, \"Farmer\")\n",
        "\n",
        "farmer_john.print_job()\n",
        "farmer_john.print_name()"
      ],
      "metadata": {
        "id": "A1-eD5f-Un3I"
      },
      "execution_count": null,
      "outputs": []
    },
    {
      "cell_type": "markdown",
      "source": [
        "As can be seen in this simple example, the Worker class inherates the variables name and age along with the print_name function. Furthermore, Worker also has its own function names print_job. "
      ],
      "metadata": {
        "id": "fU54kh3uVAK7"
      }
    },
    {
      "cell_type": "markdown",
      "source": [
        "### Abstraction\n",
        "Abstraction is a concept that is closly related to inheritance. Abstraction involves structuring a class without specifically setting the details contained within it. This is then used with inheritance by having the child class set a concrete definition for the abstract function. This is useful for developing a class that utilizes the abstracted function without having to set the exact implementation, instead leaving that implementation to the child class. \n",
        "\n",
        "\n",
        "This will be shown in the example below."
      ],
      "metadata": {
        "id": "FylzqduxCS1-"
      }
    },
    {
      "cell_type": "code",
      "source": [
        "from abc import ABC, abstractmethod\n",
        "\n",
        "class Person(ABC):\n",
        "  def __init__(self,name, age):\n",
        "    self.name = name\n",
        "    self.age = age\n",
        "\n",
        "  @abstractmethod\n",
        "  def print_name(self):\n",
        "    pass\n",
        "\n",
        "class Worker(Person):\n",
        "  def __init__(self,name,age,job):\n",
        "    Person.__init__(self,name,age)\n",
        "    self.job = job\n",
        "\n",
        "  def print_name(self):\n",
        "    print(self.name)\n",
        "\n",
        "  def print_job(self):\n",
        "    print(self.job) "
      ],
      "metadata": {
        "id": "ryaTi_PTVxcV"
      },
      "execution_count": null,
      "outputs": []
    },
    {
      "cell_type": "code",
      "source": [
        "farmer_john = Worker(\"John Doe\", 25, \"Farmer\")\n",
        "\n",
        "farmer_john.print_job()\n",
        "farmer_john.print_name()"
      ],
      "metadata": {
        "id": "dwlkfUqlWOM0"
      },
      "execution_count": null,
      "outputs": []
    },
    {
      "cell_type": "markdown",
      "source": [
        "First, in order to use abstraction one must first import ABC and abstractmethod from the abc library. \n",
        "\n",
        "The class that is going to include the abstract functions then must call ABC as its parent. Finally, the property @abstractmethod is used to indicate that a function is to be abstract.\n",
        "\n",
        "In the example, the print_name function that was originally set by the parent has been abstracted, and instead the child Worker class is responsible for setting a concrete value for the function. "
      ],
      "metadata": {
        "id": "mn14P1hpWSCe"
      }
    },
    {
      "cell_type": "markdown",
      "source": [
        "## Polymorphism\n",
        "Polymorphism is the concept that two functions can have the same name but having different functionalities depending on where they are created. This is easily seen with the \\_\\_init\\_\\_() function that each class can have. Even though they all share the same name, the actual implementation is different between each class. Another example can be seen below."
      ],
      "metadata": {
        "id": "IAEXGohBXTe8"
      }
    },
    {
      "cell_type": "code",
      "source": [
        "class Car:\n",
        "  def description(self):\n",
        "    print(\"Cars have trunks and are small.\")\n",
        "\n",
        "class Truck:\n",
        "  def description(self):\n",
        "    print(\"Trucks have beds and are large.\")"
      ],
      "metadata": {
        "id": "QYN4e1XfX3WC"
      },
      "execution_count": null,
      "outputs": []
    },
    {
      "cell_type": "code",
      "source": [
        "car = Car()\n",
        "truck = Truck()\n",
        "\n",
        "for vehicle in (car,truck):\n",
        "  vehicle.description()"
      ],
      "metadata": {
        "id": "YCF1SXDMYRil"
      },
      "execution_count": null,
      "outputs": []
    },
    {
      "cell_type": "markdown",
      "source": [
        "As can be seen in the example, both classes contain a description function, but the actual implementaion of them is different. "
      ],
      "metadata": {
        "id": "ANWFJMSGYcdU"
      }
    },
    {
      "cell_type": "markdown",
      "source": [
        "# Components of Python Code"
      ],
      "metadata": {
        "id": "LP0ZNiLYYmnG"
      }
    },
    {
      "cell_type": "markdown",
      "source": [
        "## Data types\n",
        "Data types are used to represent different types of data in Python code. Below are the four common data types:\n",
        "\n",
        "\n",
        "1. Integers\n",
        "2. Floats\n",
        "3. Strings\n",
        "4. Booleans\n",
        "\n",
        "Integers are all whole numbers (they cannot be a fraction). Floats on the other hand can be a fraction. Strings represent unicode characters, and can contain one or more characters. Finally, booleans can be True or False and are used to represent binary values. An example of initializing each is shown below."
      ],
      "metadata": {
        "id": "CwLMqqqRfRtG"
      }
    },
    {
      "cell_type": "code",
      "execution_count": null,
      "metadata": {
        "id": "J-tRcRnyNwfS"
      },
      "outputs": [],
      "source": [
        "example_integer = 56\n",
        "example_float = 2.0\n",
        "example_string = \"Hello World\"\n",
        "example_boolean = True\n",
        "\n",
        "print(\"Example of an integer: \", example_integer)\n",
        "print(\"Example of an float: \", example_float)\n",
        "print(\"Example of an string: \", example_string)\n",
        "print(\"Example of an boolean: \", example_boolean)\n"
      ]
    },
    {
      "cell_type": "markdown",
      "source": [
        "## Collection Data Types\n",
        "Collection data types are used to store multiple items in a single variable. The four types of collection data are shown below:\n",
        "1.   List\n",
        "2.   Tuple\n",
        "3.   Set\n",
        "4.   Dictionary\n",
        "\n",
        "It should be noted that strings are a type of list, but are typically still labeled as a data type. \n",
        "\n",
        "These four collection datatypes can be described based on the following traits:\n",
        "\n",
        "1.   Ordered\n",
        "2.   Changeable\n",
        "3.   Allow Duplicates\n",
        "4.   Indexed\n",
        "\n",
        "\n",
        "```markdown\n",
        "Collection Data Type  | Ordered | Changeable | Allows Duplicates | Indexed\n",
        "----------------------|---------|------------|-------------------|--------\n",
        "List                  | True    | True       | True              | True \n",
        "Tuple                 | True    | False      | True              | True\n",
        "Set                   | False   | False      | False             | False\n",
        "Dictionary            | True    | True       | False             | False\n",
        "\n",
        "```\n",
        "These four traits will be demonstrated below:"
      ],
      "metadata": {
        "id": "va8z2DpDgfhx"
      }
    },
    {
      "cell_type": "markdown",
      "source": [
        "### Ordered\n",
        "A collection is ordered if it has a defined order that will not change."
      ],
      "metadata": {
        "id": "_iLwKQNhkuOn"
      }
    },
    {
      "cell_type": "code",
      "source": [
        "test_string = \"Hello World!\"\n",
        "\n",
        "test_list = list(test_string)\n",
        "test_tuple = tuple(test_string)\n",
        "test_set = set(test_string)\n",
        "\n",
        "print(\"String:\", test_string)\n",
        "print(\"List:\", test_list)\n",
        "print(\"Tuple:\", test_tuple)\n",
        "print(\"Set:\", test_set)"
      ],
      "metadata": {
        "id": "zbZh5z-Ik_13"
      },
      "execution_count": null,
      "outputs": []
    },
    {
      "cell_type": "markdown",
      "source": [
        "### Changeable\n",
        "A collection is changeable if items can be added, removed, or changed once the collection has been set. "
      ],
      "metadata": {
        "id": "gxsBcsULk_bw"
      }
    },
    {
      "cell_type": "code",
      "source": [
        "example_list = [10, 10, 20, \"Hello\"]\n",
        "example_set = {10, 20, 30}\n",
        "\n",
        "print(\"Before:\",example_list)\n",
        "example_list[0] = 50\n",
        "print(\"After:\", example_list)\n",
        "\n",
        "example_set[0] = 50"
      ],
      "metadata": {
        "id": "FLH-JnTvlo49"
      },
      "execution_count": null,
      "outputs": []
    },
    {
      "cell_type": "markdown",
      "source": [
        "### Allows Duplicates\n",
        "A collection allows duplicates if two values in the collection can be the same."
      ],
      "metadata": {
        "id": "1Z92NnasmnJG"
      }
    },
    {
      "cell_type": "code",
      "source": [
        "example_list = [10, 10, 20, \"Hello\"]\n",
        "print(\"List:\",example_list)\n",
        "\n",
        "example_tuple = (10, 10, 20, 30)\n",
        "print(\"Tuple:\",example_tuple)\n",
        "\n",
        "example_set = {10, 10, 20, 30}\n",
        "print(\"Set:\",example_set)\n",
        "\n",
        "example_dictionary = {'Age': 20, 'Name': \"John\", 'Name': \"John\"}\n",
        "print(\"Dictionary:\",example_dictionary)"
      ],
      "metadata": {
        "id": "ChgUgtnzmt7R"
      },
      "execution_count": null,
      "outputs": []
    },
    {
      "cell_type": "markdown",
      "source": [
        "### Indexed\n",
        "A collection is indexed if a value can be retrieved by its position in the collection."
      ],
      "metadata": {
        "id": "IXyQkalRnSFL"
      }
    },
    {
      "cell_type": "code",
      "source": [
        "example_list = [10, 10, 20, \"Hello\"]\n",
        "print(\"List:\",example_list[0])\n",
        "\n",
        "example_tuple = (10, 10, 20, 30)\n",
        "print(\"Tuple:\",example_tuple[0])\n",
        "\n",
        "example_set = {10, 20, 30}\n",
        "print(\"Set:\",example_set[0])\n"
      ],
      "metadata": {
        "id": "Ewc_e4G-ngJZ"
      },
      "execution_count": null,
      "outputs": []
    },
    {
      "cell_type": "markdown",
      "source": [
        "## Classes and Functions\n",
        "Classes and functions are important building blocks for Python code. They are used together to define the implementaion of code and help structure it to be readable and useable."
      ],
      "metadata": {
        "id": "oTCMnJmBn6uC"
      }
    },
    {
      "cell_type": "markdown",
      "source": [
        "### Classes\n",
        "As mentioned in the lecture, classes are blueprints for objects. Classes can contain important function and variables needed in an object, and allow for multiple objects that are similar to be made quickly and easily. An example is shown below:"
      ],
      "metadata": {
        "id": "oxTSO8pzo7e-"
      }
    },
    {
      "cell_type": "code",
      "source": [
        "class Person:\n",
        "  def __init__(self,name,age):\n",
        "    self.name = name\n",
        "    self.age = age\n",
        "\n",
        "john_doe = Person(\"John Doe\", 25)\n",
        "jane_doe = Person(\"Jane Doe\", 26)\n",
        "\n",
        "print(john_doe.name)\n",
        "print(jane_doe.name)"
      ],
      "metadata": {
        "id": "PC1_QrYYpNvj"
      },
      "execution_count": null,
      "outputs": []
    },
    {
      "cell_type": "markdown",
      "source": [
        "The example shows how the class Person can be used to create multiple objects, in this case representing two people names John and Jane Doe."
      ],
      "metadata": {
        "id": "0WuCpKXfpiUT"
      }
    },
    {
      "cell_type": "markdown",
      "source": [
        "### Functions\n",
        "Functions, also called Methods, are blocks of code. When the function is called, the code it contains is run. Functions can have data input into them and can also return data when they terminate. An example of a function is shown below:"
      ],
      "metadata": {
        "id": "Lu2HA-oKpsGj"
      }
    },
    {
      "cell_type": "code",
      "source": [
        "def euclidean_distance(point1,point2):\n",
        "  a = math.pow(point1[0] - point2[0],2)\n",
        "  b = math.pow(point1[1] - point2[1],2)\n",
        "  return math.sqrt(a+b)\n",
        "\n",
        "point1 = [10,10]\n",
        "point2 = [15,20]\n",
        "print(euclidean_distance(point1,point2))\n",
        "\n",
        "point3 = [2,5]\n",
        "point4 = [1,9]\n",
        "print(euclidean_distance(point3,point4))"
      ],
      "metadata": {
        "id": "K6CmZ8mWZOnv"
      },
      "execution_count": null,
      "outputs": []
    },
    {
      "cell_type": "markdown",
      "source": [
        "This example shows how the same function can be called easily for different data. The example shows how two variables, point1 and point2, must be input into the function in order to execute it and that a single value is return. It should be noted that functions do not require inputs or returns."
      ],
      "metadata": {
        "id": "TGoV4M1wqNle"
      }
    },
    {
      "cell_type": "markdown",
      "source": [
        "## Conditions and Loops\n",
        "Conditions are used test if a statement is true or false. Conditions return a boolean variable. Conditions can be chained together using boolean logic, such as \"and\" and \"or\" statements. An example of these concepts is shown below:"
      ],
      "metadata": {
        "id": "ISFFm8WLq6NS"
      }
    },
    {
      "cell_type": "code",
      "source": [
        "a = 10\n",
        "b = 20\n",
        "\n",
        "print(\"a == b\" ,a == b)\n",
        "print(\"a != b\", a != b)\n",
        "print(\"a < b\", a < b)\n",
        "print(\"a <= b\", a <= b)\n",
        "print(\"a > b\", a > b)\n",
        "print(\"a >= b\", a >= b)\n",
        "print('\\n')\n",
        "print(\"a != b or a > b\", a != b or a > b)\n",
        "print(\"a != b and a > b\", a != b and a > b)"
      ],
      "metadata": {
        "colab": {
          "base_uri": "https://localhost:8080/"
        },
        "id": "guc1GAjdb0K8",
        "outputId": "0842b1c7-bb6a-4f62-9ffe-56e094a1bf01"
      },
      "execution_count": null,
      "outputs": [
        {
          "output_type": "stream",
          "name": "stdout",
          "text": [
            "a == b False\n",
            "a != b True\n",
            "a < b True\n",
            "a <= b True\n",
            "a > b False\n",
            "a >= b False\n",
            "\n",
            "\n",
            "a != b or a > b True\n",
            "a != b and a > b False\n"
          ]
        }
      ]
    },
    {
      "cell_type": "markdown",
      "source": [
        "## If Else Statements\n",
        "If else statements are used to execute code based on a condition. There are three possible choices for the statements, which are:\n",
        "\n",
        "\n",
        "1.   If\n",
        "2.   Elif\n",
        "3.   Else\n",
        "\n",
        "If statements test if a condition is true and executes the code if it is.\n",
        "Elif can be chained with an if statement to add additional tests. \n",
        "Else statements are used to cover all other cases, and should be added to the end of the chain. An example of these can be seen below:\n",
        "\n"
      ],
      "metadata": {
        "id": "PYhGdMMVsUEL"
      }
    },
    {
      "cell_type": "code",
      "source": [
        "def relationship_of_values(a,b):\n",
        "  if a < b:\n",
        "    print(\"a is less then b\")\n",
        "\n",
        "  elif a == b:\n",
        "    print(\"a and b are the same\")\n",
        "\n",
        "  else:\n",
        "    print(\"a is greater then b\")\n",
        "\n",
        "\n",
        "relationship_of_values(10,20)\n",
        "relationship_of_values(10,10)\n",
        "relationship_of_values(20,10)\n"
      ],
      "metadata": {
        "id": "ESYS5fkIcwVR"
      },
      "execution_count": null,
      "outputs": []
    },
    {
      "cell_type": "markdown",
      "source": [
        "## For Loops\n",
        "For loops are used to iterate through a collection. An example of a for loop is shown below:"
      ],
      "metadata": {
        "id": "n86WYYaOtPc7"
      }
    },
    {
      "cell_type": "code",
      "source": [
        "x = range(10)\n",
        "for i in x:\n",
        "  print(i)\n"
      ],
      "metadata": {
        "id": "kVkTD02ii1Lb"
      },
      "execution_count": null,
      "outputs": []
    },
    {
      "cell_type": "markdown",
      "source": [
        "## While Loop\n",
        "While loops will continue to run as long as a condition is true. It should be noted that one must be careful when using a while loop because they can run forever if the condition never changes. An example of a while loop is shown below:"
      ],
      "metadata": {
        "id": "QBdm0eo6uY1N"
      }
    },
    {
      "cell_type": "code",
      "source": [
        "n = 0\n",
        "while n < 10:\n",
        "  print(n)\n",
        "  n += 1"
      ],
      "metadata": {
        "id": "kMIKdV_NjPE2"
      },
      "execution_count": null,
      "outputs": []
    },
    {
      "cell_type": "markdown",
      "source": [
        "## Break and Continue\n",
        "Break and continue statements can be used to manipulate a loop. Break statements will exit the loop if called, while continue statements will jump to the next iteration of the loop. The example below demonstrates the two concepts."
      ],
      "metadata": {
        "id": "rohHnCgMuoQ-"
      }
    },
    {
      "cell_type": "code",
      "source": [
        "n = 0\n",
        "\n",
        "while True:\n",
        "  if n % 2 == 0:\n",
        "    n += 1\n",
        "    continue\n",
        "  elif n >= 20:\n",
        "    break\n",
        "  print(n)\n",
        "  n += 1"
      ],
      "metadata": {
        "colab": {
          "base_uri": "https://localhost:8080/"
        },
        "id": "wBCxPkExu--m",
        "outputId": "d6dbc3ce-ef8c-47fc-e533-d56b5c16ab53"
      },
      "execution_count": null,
      "outputs": [
        {
          "output_type": "stream",
          "name": "stdout",
          "text": [
            "1\n",
            "3\n",
            "5\n",
            "7\n",
            "9\n",
            "11\n",
            "13\n",
            "15\n",
            "17\n",
            "19\n"
          ]
        }
      ]
    },
    {
      "cell_type": "markdown",
      "source": [
        "In the above example, the while loop would run indefinetly if the break statement was not used to exit the loop. In the example, the continue is used to skip the print statement on equal numbers, while the break statement is used to exit the while loop if the the value is 20 or greater. "
      ],
      "metadata": {
        "id": "HEI-eF8Nv6L7"
      }
    },
    {
      "cell_type": "markdown",
      "source": [
        "## Exercise\n",
        "You are going to create a class that calculates the first n values in the Fibonacci Sequence. The Fibonacci sequence can be calculated using the the equation $F_n = F_{n-1}+F_{n-2}$ where n is the current index and $F_n$ is the value of the sequence at n. For example:\n",
        "\n",
        "$F_0 = 0$\n",
        "\n",
        "$F_1 = 1$\n",
        "\n",
        "$F_3 = F_2 + F_1$\n",
        "\n",
        "$F_3 = 1 + 0 = 1$ \n",
        "\n",
        "To solve this, you will create functions for the following:\n",
        "\n",
        "\n",
        "1.   Append a new value to the sequence\n",
        "2.   Calculate the length of the sequence\n",
        "3.   Calculate the next value of the sequence\n",
        "\n",
        "The class must take in as an input the number of values from the Fibonacci Sequence that should be calculated.\n",
        "\n",
        "\n"
      ],
      "metadata": {
        "id": "Aw6lRR_pw0pc"
      }
    },
    {
      "cell_type": "code",
      "source": [
        ""
      ],
      "metadata": {
        "id": "lJtx8TF0Hq4G"
      },
      "execution_count": null,
      "outputs": []
    },
    {
      "cell_type": "markdown",
      "source": [
        "### Solution"
      ],
      "metadata": {
        "id": "wCAZoVkdHh-x"
      }
    },
    {
      "cell_type": "code",
      "source": [
        "# This is an example solution\n",
        "\n",
        "class Fibonacci_Sequence():\n",
        "  def __call__(self,desired_length):\n",
        "    sequence = [0,1]\n",
        "    while True:\n",
        "      new_value = self.next_value(sequence)\n",
        "      self.append_sequence(sequence,new_value)\n",
        "      if self.sequence_length(sequence) == desired_length:\n",
        "        break\n",
        "      \n",
        "    return sequence\n",
        "\n",
        "\n",
        "  def next_value(self,sequence):\n",
        "    return sequence[-1] + sequence[-2]\n",
        "\n",
        "  def sequence_length(self,sequence):\n",
        "    return len(sequence)\n",
        "\n",
        "  def append_sequence(self,sequence, new_value):\n",
        "    return sequence.append(new_value)\n"
      ],
      "metadata": {
        "id": "l9MC2vZ045k8"
      },
      "execution_count": null,
      "outputs": []
    },
    {
      "cell_type": "code",
      "source": [
        "fs_generator = Fibonacci_Sequence()\n",
        "print(fs_generator(20))"
      ],
      "metadata": {
        "colab": {
          "base_uri": "https://localhost:8080/"
        },
        "id": "e2EmgMYd6mhG",
        "outputId": "54ec3b9b-6340-4d8d-e75c-b5b2720408c5"
      },
      "execution_count": null,
      "outputs": [
        {
          "output_type": "stream",
          "name": "stdout",
          "text": [
            "[0, 1, 1, 2, 3, 5, 8, 13, 21, 34, 55, 89, 144, 233, 377, 610, 987, 1597, 2584, 4181]\n"
          ]
        }
      ]
    }
  ]
}