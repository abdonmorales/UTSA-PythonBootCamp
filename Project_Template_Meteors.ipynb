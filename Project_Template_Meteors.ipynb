{
  "cells": [
    {
      "cell_type": "markdown",
      "metadata": {
        "colab_type": "text",
        "id": "view-in-github"
      },
      "source": [
        "<a href=\"https://colab.research.google.com/github/abdonmorales/UTSA-PythonBootCamp/blob/project/Project_Template_Meteors.ipynb\" target=\"_parent\"><img src=\"https://colab.research.google.com/assets/colab-badge.svg\" alt=\"Open In Colab\"/></a>"
      ]
    },
    {
      "cell_type": "code",
      "execution_count": 2,
      "metadata": {
        "id": "XVaqTs6Txk6f"
      },
      "outputs": [],
      "source": [
        "import pandas as pd\n",
        "import numpy as np\n",
        "import matplotlib.pyplot as plt\n",
        "from scipy import interpolate,stats\n",
        "import json\n",
        "from urllib.request import urlopen"
      ]
    },
    {
      "cell_type": "markdown",
      "metadata": {
        "id": "dsvxkYLjyxtL"
      },
      "source": [
        "You will be working with data recorded by Nasa and provided publically online. You can find the data [here](https://cneos.jpl.nasa.gov/nhats/#). The dataset records an array of information on near earth astroids, and is provided for users to identify asteroids that will be traveling near the earth and their properties. We will focus on three of these properties, which are described below:\n",
        "\n",
        "\n",
        "\n",
        "1.   min_size : The minimum estimated size of the object\n",
        "2.   max_size : The maximum estimated size of the object\n",
        "3.   h : The absolute visual magnitude of the object\n",
        "\n",
        "You will process this data and make conclusions about it through the use of data analysis methods. "
      ]
    },
    {
      "cell_type": "code",
      "execution_count": 3,
      "metadata": {
        "id": "IQ3reeXuRGCQ"
      },
      "outputs": [],
      "source": [
        "url = \"https://ssd-api.jpl.nasa.gov/nhats.api\"\n",
        "response = urlopen(url)\n",
        "data_json = json.loads(response.read())\n",
        "data = pd.DataFrame(data_json[\"data\"])[['h','min_size','max_size']].astype(float)\n",
        "del data_json"
      ]
    },
    {
      "cell_type": "code",
      "execution_count": 4,
      "metadata": {
        "colab": {
          "base_uri": "https://localhost:8080/"
        },
        "id": "sn66ESdjyUm1",
        "outputId": "ada8f22b-c328-4c61-9086-e0d5f6c2db17"
      },
      "outputs": [
        {
          "name": "stdout",
          "output_type": "stream",
          "text": [
            "<class 'pandas.core.frame.DataFrame'>\n",
            "RangeIndex: 4337 entries, 0 to 4336\n",
            "Data columns (total 3 columns):\n",
            " #   Column    Non-Null Count  Dtype  \n",
            "---  ------    --------------  -----  \n",
            " 0   h         4337 non-null   float64\n",
            " 1   min_size  4337 non-null   float64\n",
            " 2   max_size  4337 non-null   float64\n",
            "dtypes: float64(3)\n",
            "memory usage: 101.8 KB\n",
            "None\n",
            "      h  min_size  max_size\n",
            "0  25.1      17.0      74.0\n",
            "1  21.7      81.0     362.0\n",
            "2  26.6       8.3      37.0\n",
            "3  24.6      21.0      94.0\n",
            "4  26.0      11.0      49.0\n",
            "                 h    min_size     max_size\n",
            "count  4337.000000  4337.00000  4337.000000\n",
            "mean     25.804289    20.53976    91.883721\n",
            "std       2.042016    39.50904   176.681315\n",
            "min      15.700000     0.45000     2.000000\n",
            "25%      24.600000     6.60000    30.000000\n",
            "50%      25.900000    11.00000    51.000000\n",
            "75%      27.100000    21.00000    92.000000\n",
            "max      33.000000  1266.00000  5662.000000\n"
          ]
        },
        {
          "data": {
            "image/png": "[encoded data removed]",
            "text/plain": [
              "<Figure size 432x288 with 1 Axes>"
            ]
          },
          "metadata": {
            "needs_background": "light"
          },
          "output_type": "display_data"
        },
        {
          "name": "stdout",
          "output_type": "stream",
          "text": [
            "Our conclusion is that the distribution of the height of the meteor is not normal.\n"
          ]
        }
      ],
      "source": [
        "print(data.info())\n",
        "print(data.head())\n",
        "print(data.describe())\n",
        "\n",
        "data['h'].hist(bins=100)\n",
        "plt.show()\n",
        "\n",
        "conclusion = \"Our conclusion is that the distribution of the height of the meteor is not normal.\"\n",
        "print(conclusion)"
      ]
    }
  ],
  "metadata": {
    "colab": {
      "include_colab_link": true,
      "name": "Project Template Meteors.ipynb",
      "provenance": []
    },
    "kernelspec": {
      "display_name": "Python 3.10.4 64-bit",
      "language": "python",
      "name": "python3"
    },
    "language_info": {
      "codemirror_mode": {
        "name": "ipython",
        "version": 3
      },
      "file_extension": ".py",
      "mimetype": "text/x-python",
      "name": "python",
      "nbconvert_exporter": "python",
      "pygments_lexer": "ipython3",
      "version": "3.10.4"
    },
    "vscode": {
      "interpreter": {
        "hash": "4f946df053fbf2b937619d3c5458e7af74262f9a954d8797ba0b27400bcafe06"
      }
    }
  },
  "nbformat": 4,
  "nbformat_minor": 0
}
