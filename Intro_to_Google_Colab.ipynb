{
  "cells": [
    {
      "cell_type": "markdown",
      "metadata": {
        "colab_type": "text",
        "id": "view-in-github"
      },
      "source": [
        "<a href=\"https://colab.research.google.com/github/abdonmorales/UTSA-PythonBootCamp/blob/main/Intro_to_Google_Colab.ipynb\" target=\"_parent\"><img src=\"https://colab.research.google.com/assets/colab-badge.svg\" alt=\"Open In Colab\"/></a>"
      ]
    },
    {
      "cell_type": "markdown",
      "metadata": {
        "id": "A0aFvZU2aMw7"
      },
      "source": [
        "# Introduction\n",
        "The goal of this document is to prepare you to use Google Colab, which will be needed for the CAMEE Python camp that is beginning on June 27th. We will go over the basic controls of Google Colab, the format of notebooks for the camp, and some simple tests to ensure that you will be able to jump right into the camp."
      ]
    },
    {
      "cell_type": "markdown",
      "metadata": {
        "id": "nRLC1et8bZs1"
      },
      "source": [
        "## Basic Controls for Google Colab\n",
        "Google Colab notebooks are made up of two types of cells, text and code cells.\n",
        "\n",
        "This text is located in a text cell, and as you may guess its purpose is to display text. Text cells are also used to organize your Colab notebook, such as how this textbox is within the \"Basic Controls for Google Colab\" group, while \"Basic Controls for Google Colab\" is within the \"Introduction\" group. \n",
        "\n",
        "Code cells are used to add and run Python code. An example of a code cell is shown below, which will print \"Hello World\". You can run the cell by first selecting it, then pressing the play button on the left of the cell. When you do, you should see the output of the cell below it."
      ]
    },
    {
      "cell_type": "code",
      "execution_count": 1,
      "metadata": {
        "colab": {
          "base_uri": "https://localhost:8080/"
        },
        "id": "LXfESzCOZWoX",
        "outputId": "c50dbde9-5844-4fae-a3b3-f66bcd7fef31"
      },
      "outputs": [
        {
          "name": "stdout",
          "output_type": "stream",
          "text": [
            "Hello World\n"
          ]
        }
      ],
      "source": [
        "print(\"Hello World\")"
      ]
    },
    {
      "cell_type": "markdown",
      "metadata": {
        "id": "V-4_Bu86cvrr"
      },
      "source": [
        "Variables that you define in one cell can can be used by other cells too. The example below will define a variable x in once cell, then print its value in the second."
      ]
    },
    {
      "cell_type": "code",
      "execution_count": 2,
      "metadata": {
        "id": "wdrU0KQPdUsU"
      },
      "outputs": [],
      "source": [
        "x = 5"
      ]
    },
    {
      "cell_type": "code",
      "execution_count": 3,
      "metadata": {
        "colab": {
          "base_uri": "https://localhost:8080/"
        },
        "id": "3_rjyjtQdVSA",
        "outputId": "4a8cdcaa-d28e-4cdb-af23-670efba45cf4"
      },
      "outputs": [
        {
          "name": "stdout",
          "output_type": "stream",
          "text": [
            "5\n"
          ]
        }
      ],
      "source": [
        "print(x)"
      ]
    },
    {
      "cell_type": "markdown",
      "metadata": {
        "id": "RDNTBGgWdW7E"
      },
      "source": [
        "It should also be noted that once a variable is set, it can be accessed throughout the entire notebook. In the example below, run the second code cell first, then run the code cell above it. Even though the variable is set after the print statement, it can still run because you set the variable first. You can also see that Google Colab shows a warning in the print statement, letting you know that the variable is not declared before it."
      ]
    },
    {
      "cell_type": "code",
      "execution_count": null,
      "metadata": {
        "colab": {
          "base_uri": "https://localhost:8080/",
          "height": 164
        },
        "id": "7UCJQyCqdo7D",
        "outputId": "d450eaf2-c71c-4c80-acae-ab15f8e58d9f"
      },
      "outputs": [
        {
          "ename": "NameError",
          "evalue": "ignored",
          "output_type": "error",
          "traceback": [
            "\u001b[0;31m---------------------------------------------------------------------------\u001b[0m",
            "\u001b[0;31mNameError\u001b[0m                                 Traceback (most recent call last)",
            "\u001b[0;32m<ipython-input-4-d9183e048de3>\u001b[0m in \u001b[0;36m<module>\u001b[0;34m()\u001b[0m\n\u001b[0;32m----> 1\u001b[0;31m \u001b[0mprint\u001b[0m\u001b[0;34m(\u001b[0m\u001b[0my\u001b[0m\u001b[0;34m)\u001b[0m\u001b[0;34m\u001b[0m\u001b[0;34m\u001b[0m\u001b[0m\n\u001b[0m",
            "\u001b[0;31mNameError\u001b[0m: name 'y' is not defined"
          ]
        }
      ],
      "source": [
        "print(y)"
      ]
    },
    {
      "cell_type": "code",
      "execution_count": null,
      "metadata": {
        "id": "cocyICYidqKN"
      },
      "outputs": [],
      "source": [
        "y = 19"
      ]
    },
    {
      "cell_type": "markdown",
      "metadata": {
        "id": "Bx1aabhJdtMe"
      },
      "source": [
        "You do not have to individually run every code cell in the notebook. At the top of the page, there is a tab called Runtime. The \"Run all\" command will sequentially run each code cell in the script without deleting previous variables. Try selecting the run all command.\n",
        "\n",
        "Farther down is the \"restart and run all\" command. Restarting the runtime removes all variables that were previously set. This command will first delete all saved information in the notebook before running the code cells sequentially. Try selecting this, and you should see an error appear in cell 9 (print(y)). This is because the variable y is no longer saved in the notebook, but it is still trying to print it before the variable is set again."
      ]
    },
    {
      "cell_type": "markdown",
      "metadata": {
        "id": "SrRyhZpufRnq"
      },
      "source": [
        "## Testing Colab\n",
        "The blocks of code below will attempt to import the necessary libraries for this camp. Google Colab provides a wide range of Python libraries without you needing to download them, and all of these libraries are included. The second block will attempt to import a dataset from Nasa's publicly available data. This will be important for the camp, as it will be needed for both the examples and the project. If there is an issue with either of these, please email me so we can correct them."
      ]
    },
    {
      "cell_type": "code",
      "execution_count": null,
      "metadata": {
        "id": "cykfl-0Lfmz2"
      },
      "outputs": [],
      "source": [
        "import numpy\n",
        "import scipy\n",
        "import matplotlib.pyplot\n",
        "import pandas\n",
        "import sklearn\n",
        "import skimage"
      ]
    },
    {
      "cell_type": "code",
      "execution_count": null,
      "metadata": {
        "id": "8LhuPhezmrwJ"
      },
      "outputs": [],
      "source": [
        "example_df = pandas.read_csv('https://data.nasa.gov/api/views/gh4g-9sfh/rows.csv?accessType=DOWNLOAD')"
      ]
    },
    {
      "cell_type": "markdown",
      "metadata": {
        "id": "By6sbmvDgSHB"
      },
      "source": [
        "## Format of Colab Notebooks for the Camp\n",
        "This camp will be a mix of lectures about different subjects and Colab notebooks to see the concepts in action. The Colab notebooks will be separated into sections based on subject. These sections will explaining the concepts, explaining the code, and providing some discussion on the results. The code provided is setup to be run without any input from you, but you are encouraged the change values and experiment with the code so that you can better understand the concepts being discussed.\n",
        "\n",
        "Throughout the notebooks are exercises to challenge you to implement your own code for the subject. Below each exercise will be an example solution to the problem, but I encourage you to first attempt it yourself before looking at the solution. You are encouraged to utilize the provided code from the notebooks as a template for these exercises. \n",
        "\n",
        "An example of the format of the Colab notebooks is shown below to help you visualize the it:"
      ]
    },
    {
      "cell_type": "markdown",
      "metadata": {
        "id": "GoOxQ4GBh_Za"
      },
      "source": [
        "# Subject\n",
        "This is where the overall subject is discussed. The subjects will also be discussed in the lecture, so the description here will be short. Different topics that will be discussed are also listed here."
      ]
    },
    {
      "cell_type": "markdown",
      "metadata": {
        "id": "lJ9zs2nTiPId"
      },
      "source": [
        "## Topic\n",
        "This is one topic within the subject. These will be different uses or methods to implement to subject. "
      ]
    },
    {
      "cell_type": "markdown",
      "metadata": {
        "id": "d2gox4dAiaJV"
      },
      "source": [
        "### Sub-Topic\n",
        "Sometimes the topic will be separated into sub-topics to better explain concepts. "
      ]
    },
    {
      "cell_type": "markdown",
      "metadata": {
        "id": "HQ3tOiLrineD"
      },
      "source": [
        "#### Sub-Sub-Topics\n",
        "In a few notebooks, we may even have four layers of topics."
      ]
    },
    {
      "cell_type": "code",
      "execution_count": null,
      "metadata": {
        "id": "vu8qNjzUi1Sj"
      },
      "outputs": [],
      "source": [
        "# Code will be presented in these different groups, like this."
      ]
    },
    {
      "cell_type": "markdown",
      "metadata": {
        "id": "FkhDr49Bi8gj"
      },
      "source": [
        "# Conclusion\n",
        "This should cover the basic usage of Google Colab and how the camp notebooks will be formatted. If you have any issues, questions, or comments please don't hesitate to contact me. \n",
        "\n",
        "If you want to learn more about using Google Colab, [here](https://colab.research.google.com/?utm_source=scs-index#scrollTo=GJBs_flRovLc) is a link to Google's own introduction to Colab, which provides more examples on how it can be used and other features it has.\n",
        "\n",
        "I look forward to working with y'all this coming week, I believe there is a lot of good information that the camp will provide that will keep it interesting."
      ]
    }
  ],
  "metadata": {
    "colab": {
      "include_colab_link": true,
      "name": "Intro_to_Google_Colab.ipynb",
      "provenance": []
    },
    "kernelspec": {
      "display_name": "Python 3.10.4 64-bit",
      "language": "python",
      "name": "python3"
    },
    "language_info": {
      "codemirror_mode": {
        "name": "ipython",
        "version": 3
      },
      "file_extension": ".py",
      "mimetype": "text/x-python",
      "name": "python",
      "nbconvert_exporter": "python",
      "pygments_lexer": "ipython3",
      "version": "3.10.4"
    },
    "vscode": {
      "interpreter": {
        "hash": "4f946df053fbf2b937619d3c5458e7af74262f9a954d8797ba0b27400bcafe06"
      }
    }
  },
  "nbformat": 4,
  "nbformat_minor": 0
}
