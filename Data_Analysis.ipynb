{
  "nbformat": 4,
  "nbformat_minor": 0,
  "metadata": {
    "colab": {
      "name": "Data_Analysis.ipynb",
      "provenance": [],
      "include_colab_link": true
    },
    "kernelspec": {
      "name": "python3",
      "display_name": "Python 3"
    },
    "language_info": {
      "name": "python"
    }
  },
  "cells": [
    {
      "cell_type": "markdown",
      "metadata": {
        "id": "view-in-github",
        "colab_type": "text"
      },
      "source": [
        "<a href=\"https://colab.research.google.com/github/abdonmorales/UTSA-PythonBootCamp/blob/project/Data_Analysis.ipynb\" target=\"_parent\"><img src=\"https://colab.research.google.com/assets/colab-badge.svg\" alt=\"Open In Colab\"/></a>"
      ]
    },
    {
      "cell_type": "code",
      "source": [
        "import numpy as np\n",
        "import matplotlib.pyplot as plt\n",
        "import pandas as pd\n",
        "from scipy import stats"
      ],
      "metadata": {
        "id": "FQAJ0WVDTOvB"
      },
      "execution_count": null,
      "outputs": []
    },
    {
      "cell_type": "code",
      "execution_count": null,
      "metadata": {
        "id": "IQ3reeXuRGCQ",
        "colab": {
          "base_uri": "https://localhost:8080/"
        },
        "outputId": "011bf145-4d21-42ee-9cdd-3a7ddf60c11c"
      },
      "outputs": [
        {
          "output_type": "stream",
          "name": "stdout",
          "text": [
            "<class 'pandas.core.frame.DataFrame'>\n",
            "RangeIndex: 45716 entries, 0 to 45715\n",
            "Data columns (total 10 columns):\n",
            " #   Column       Non-Null Count  Dtype  \n",
            "---  ------       --------------  -----  \n",
            " 0   name         45716 non-null  object \n",
            " 1   id           45716 non-null  int64  \n",
            " 2   nametype     45716 non-null  object \n",
            " 3   recclass     45716 non-null  object \n",
            " 4   mass (g)     45585 non-null  float64\n",
            " 5   fall         45716 non-null  object \n",
            " 6   year         45425 non-null  float64\n",
            " 7   reclat       38401 non-null  float64\n",
            " 8   reclong      38401 non-null  float64\n",
            " 9   GeoLocation  38401 non-null  object \n",
            "dtypes: float64(4), int64(1), object(5)\n",
            "memory usage: 3.5+ MB\n",
            "None\n"
          ]
        }
      ],
      "source": [
        "meteorite_df = pd.read_csv('https://data.nasa.gov/api/views/gh4g-9sfh/rows.csv?accessType=DOWNLOAD')\n",
        "print(meteorite_df.info())\n",
        "meteorite_mass_df = meteorite_df['mass (g)']"
      ]
    },
    {
      "cell_type": "code",
      "source": [
        "# print(meteorite_mass_df)\n",
        "mean = meteorite_df.mean()\n",
        "print(mean)\n",
        "print(mean['mass (g)'])"
      ],
      "metadata": {
        "colab": {
          "base_uri": "https://localhost:8080/"
        },
        "id": "wimsEIYzYPOS",
        "outputId": "3ccffeb7-219f-410a-ddb9-dba44d147b5e"
      },
      "execution_count": 10,
      "outputs": [
        {
          "output_type": "stream",
          "name": "stdout",
          "text": [
            "id          26889.735104\n",
            "mass (g)    13278.078549\n",
            "year         1991.828817\n",
            "reclat        -39.122580\n",
            "reclong        61.074319\n",
            "dtype: float64\n",
            "13278.078548601512\n"
          ]
        },
        {
          "output_type": "stream",
          "name": "stderr",
          "text": [
            "/usr/local/lib/python3.7/dist-packages/ipykernel_launcher.py:2: FutureWarning: Dropping of nuisance columns in DataFrame reductions (with 'numeric_only=None') is deprecated; in a future version this will raise TypeError.  Select only valid columns before calling the reduction.\n",
            "  \n"
          ]
        }
      ]
    },
    {
      "cell_type": "markdown",
      "source": [
        "### Original Plot"
      ],
      "metadata": {
        "id": "GiXbglFVWuW7"
      }
    },
    {
      "cell_type": "markdown",
      "source": [
        "[0 1 2 3 4]\n",
        "[0 10 20 30 40 50]\n",
        "[1 10 100 1000 10000 100000]"
      ],
      "metadata": {
        "id": "znJE9QPhY9zE"
      }
    },
    {
      "cell_type": "code",
      "source": [
        "fig, ax = plt.subplots(1)\n",
        "ax = meteorite_mass_df.plot.hist(bins = 100)\n",
        "plt.show()"
      ],
      "metadata": {
        "colab": {
          "base_uri": "https://localhost:8080/",
          "height": 278
        },
        "id": "4OaO58Nw1oHD",
        "outputId": "bd473711-18a9-4567-9da6-9fb03fc0ca88"
      },
      "execution_count": null,
      "outputs": [
        {
          "output_type": "display_data",
          "data": {
            "text/plain": [
              "<Figure size 432x288 with 1 Axes>"
            ],
            "image/png": "[encoded data removed]"
          },
          "metadata": {
            "needs_background": "light"
          }
        }
      ]
    },
    {
      "cell_type": "code",
      "source": [
        "fig, ax = plt.subplots(1,figsize = (10,10))\n",
        "ax = meteorite_mass_df.plot.hist(bins = 100)\n",
        "ax.semilogy()\n",
        "plt.show()"
      ],
      "metadata": {
        "colab": {
          "base_uri": "https://localhost:8080/",
          "height": 605
        },
        "outputId": "ca0faefc-c77d-4e14-8c03-9fdac1747d82",
        "id": "jXsOgDpDXPbP"
      },
      "execution_count": null,
      "outputs": [
        {
          "output_type": "display_data",
          "data": {
            "text/plain": [
              "<Figure size 720x720 with 1 Axes>"
            ],
            "image/png": "[encoded data removed]"
          },
          "metadata": {
            "needs_background": "light"
          }
        }
      ]
    },
    {
      "cell_type": "markdown",
      "source": [
        "#### Clipping"
      ],
      "metadata": {
        "id": "fFG6BrtCB0WF"
      }
    },
    {
      "cell_type": "code",
      "source": [
        "clipped_meteorite_mass = meteorite_mass_df.copy()\n",
        "\n",
        "clipped_meteorite_mass = clipped_meteorite_mass.clip(lower = 0, upper = 500)\n",
        "\n",
        "fig, ax = plt.subplots(1,figsize=(10,5))\n",
        "ax.hist(clipped_meteorite_mass,bins=30)\n",
        "ax.set_xlabel(\"Mass of Meteorite (g)\")\n",
        "ax.set_ylabel(\"Frequency\")\n",
        "ax.set_title(\"Clipped Meteorite Mass Histogram\")\n",
        "plt.show()"
      ],
      "metadata": {
        "colab": {
          "base_uri": "https://localhost:8080/",
          "height": 350
        },
        "id": "XBX8sfb2Bw_E",
        "outputId": "5f67ffc7-2a51-4aaa-cbe7-c8d801687541"
      },
      "execution_count": 11,
      "outputs": [
        {
          "output_type": "display_data",
          "data": {
            "text/plain": [
              "<Figure size 720x360 with 1 Axes>"
            ],
            "image/png": "[encoded data removed]"
          },
          "metadata": {
            "needs_background": "light"
          }
        }
      ]
    },
    {
      "cell_type": "markdown",
      "source": [
        "It is easy to see the results of clipping in the data. By clipping the data to a more reasonable value such as 500, we are able to greatly shorten the range of masses, allowing the histogram to be much more reasonable. We also do not lose samples, as all the samples above and below the cutoff are set to the max/min values respectively."
      ],
      "metadata": {
        "id": "9Och66DmI0zR"
      }
    },
    {
      "cell_type": "markdown",
      "source": [
        "#### Log"
      ],
      "metadata": {
        "id": "X6FNAf1lCIHQ"
      }
    },
    {
      "cell_type": "code",
      "source": [
        "log_meteorite_mass = meteorite_mass_df.copy()\n",
        "log_meteorite_mass[log_meteorite_mass == 0] = .001\n",
        "\n",
        "log_meteorite_mass = log_meteorite_mass.apply(lambda x: np.log(x))\n",
        "\n",
        "fig, ax = plt.subplots(1,figsize=(10,5))\n",
        "ax.hist(log_meteorite_mass,bins=30)\n",
        "ax.set_xlabel(\"Log of the Mass of Meteorite (g)\")\n",
        "ax.set_ylabel(\"Frequency\")\n",
        "ax.set_title(\"Log Scaled Meteorite Mass Histogram\")\n",
        "plt.show()"
      ],
      "metadata": {
        "colab": {
          "base_uri": "https://localhost:8080/",
          "height": 350
        },
        "id": "EH0ntAW2CHho",
        "outputId": "11c7186b-f34c-487c-b52c-272879adcf53"
      },
      "execution_count": 12,
      "outputs": [
        {
          "output_type": "display_data",
          "data": {
            "text/plain": [
              "<Figure size 720x360 with 1 Axes>"
            ],
            "image/png": "[encoded data removed]"
          },
          "metadata": {
            "needs_background": "light"
          }
        }
      ]
    },
    {
      "cell_type": "markdown",
      "source": [
        "### Mean, Median, Mode\n",
        "We will start with some basics from statistics, the mean, median, and mode of a set of data. This information is a great first step to understanding data, as it provides the average value that can be expected. These measurements can also be used as a step for other methods, such as normalizing data.\n",
        "\n",
        "The example below will show how Pandas can be used to easily calculate these values from a Dataframe."
      ],
      "metadata": {
        "id": "FB09hgiKxpYh"
      }
    },
    {
      "cell_type": "code",
      "source": [
        "mean = clipped_meteorite_mass.mean()\n",
        "median = clipped_meteorite_mass.median()\n",
        "mode = clipped_meteorite_mass.mode()\n",
        "\n",
        "print(\"Mean:\",mean)\n",
        "print(\"Median:\",median)\n",
        "print(\"Mode:\",mode)"
      ],
      "metadata": {
        "colab": {
          "base_uri": "https://localhost:8080/"
        },
        "id": "qOgjz4sO0bXa",
        "outputId": "1369844a-ee75-47a5-a39c-6187a4df5241"
      },
      "execution_count": 13,
      "outputs": [
        {
          "output_type": "stream",
          "name": "stdout",
          "text": [
            "Mean: 135.26217345618076\n",
            "Median: 32.6\n",
            "Mode: 0    500.0\n",
            "dtype: float64\n"
          ]
        }
      ]
    },
    {
      "cell_type": "markdown",
      "source": [
        "### Standard Deviation and Variance\n",
        "The standard deviation of a dataset is the amount of dispersion the values have. The wider range of values in the dataset, the larger the standard deviation. The variance is the square of the standard deviation, and is another measure of dispersion."
      ],
      "metadata": {
        "id": "iLCxOLnP2tWH"
      }
    },
    {
      "cell_type": "code",
      "source": [
        "meteorite_std = clipped_meteorite_mass.std()\n",
        "meteorite_var = clipped_meteorite_mass.var()\n",
        "\n",
        "print(\"Standard Deviation\", meteorite_std)\n",
        "print(\"Variance\", meteorite_var)"
      ],
      "metadata": {
        "colab": {
          "base_uri": "https://localhost:8080/"
        },
        "id": "hIv42MD03CA3",
        "outputId": "d8a51bc4-04e6-4089-eba4-677dca82e6e9"
      },
      "execution_count": 14,
      "outputs": [
        {
          "output_type": "stream",
          "name": "stdout",
          "text": [
            "Standard Deviation 183.04559071861678\n",
            "Variance 33505.688281527364\n"
          ]
        }
      ]
    },
    {
      "cell_type": "markdown",
      "source": [
        "### Distribution of Data\n",
        "Important values for the distribution of a dataset can also be found. These values are the same as the ones that can be found from a boxplot. These can include measurements of the max and min values, the median of the values, and the 25\\% and 75\\% quantiles in the dataset.\n"
      ],
      "metadata": {
        "id": "8Z1G5okN4lex"
      }
    },
    {
      "cell_type": "code",
      "source": [
        "print(\"Min:\", clipped_meteorite_mass.min())\n",
        "print(\"25% Quantile:\", clipped_meteorite_mass.quantile(.25))\n",
        "print(\"50% Quantile:\", clipped_meteorite_mass.quantile(.50))\n",
        "print(\"75% Quantile:\", clipped_meteorite_mass.quantile(.75))\n",
        "print(\"Max:\", clipped_meteorite_mass.max())\n"
      ],
      "metadata": {
        "colab": {
          "base_uri": "https://localhost:8080/"
        },
        "id": "zD_7uPrl3liX",
        "outputId": "5a4697ad-2279-40b1-d3ef-cc87e5d1a7e1"
      },
      "execution_count": 15,
      "outputs": [
        {
          "output_type": "stream",
          "name": "stdout",
          "text": [
            "Min: 0.0\n",
            "25% Quantile: 7.2\n",
            "50% Quantile: 32.6\n",
            "75% Quantile: 202.6\n",
            "Max: 500.0\n"
          ]
        }
      ]
    },
    {
      "cell_type": "markdown",
      "source": [
        "The skew of a dataset measures the distortion of the distribution of a dataset from the bell curve. In a bell curve, the distribution of values above and below the mean is symmetrical, while in many real-world datasets this isnt the case. "
      ],
      "metadata": {
        "id": "zRbq5EuV6QbV"
      }
    },
    {
      "cell_type": "code",
      "source": [
        "skew = clipped_meteorite_mass.skew()\n",
        "print(\"Skewness:\",skew)"
      ],
      "metadata": {
        "colab": {
          "base_uri": "https://localhost:8080/"
        },
        "id": "d_MFtI2z6pvC",
        "outputId": "28c96935-41d8-4aaa-d6a0-6099e23cf295"
      },
      "execution_count": 16,
      "outputs": [
        {
          "output_type": "stream",
          "name": "stdout",
          "text": [
            "Skewness: 1.2129239443909756\n"
          ]
        }
      ]
    },
    {
      "cell_type": "markdown",
      "source": [
        "Pandas also provides a function to calculate an array of information about a Dataframe and a second method for providing a list of statistics to collect:"
      ],
      "metadata": {
        "id": "LJ_0Rz1X2XMS"
      }
    },
    {
      "cell_type": "code",
      "source": [
        "meteorite_description = clipped_meteorite_mass.describe()\n",
        "print(meteorite_description)\n",
        "\n",
        "aggregate_info = clipped_meteorite_mass.agg([\"min\", \"max\", \"median\", \"skew\"])\n",
        "print(aggregate_info)"
      ],
      "metadata": {
        "colab": {
          "base_uri": "https://localhost:8080/"
        },
        "id": "scSCfrDj2e7I",
        "outputId": "5ff1b8b0-5f26-4d21-f0f0-50b0ccc90228"
      },
      "execution_count": 17,
      "outputs": [
        {
          "output_type": "stream",
          "name": "stdout",
          "text": [
            "count    45585.000000\n",
            "mean       135.262173\n",
            "std        183.045591\n",
            "min          0.000000\n",
            "25%          7.200000\n",
            "50%         32.600000\n",
            "75%        202.600000\n",
            "max        500.000000\n",
            "Name: mass (g), dtype: float64\n",
            "min         0.000000\n",
            "max       500.000000\n",
            "median     32.600000\n",
            "skew        1.212924\n",
            "Name: mass (g), dtype: float64\n"
          ]
        }
      ]
    },
    {
      "cell_type": "markdown",
      "source": [
        "### Box Plot"
      ],
      "metadata": {
        "id": "CVFjjd80VGc2"
      }
    },
    {
      "cell_type": "code",
      "source": [
        "fig, ax = plt.subplots(1, figsize = (10,5))\n",
        "ax = clipped_meteorite_mass.plot.box(vert = False)\n",
        "plt.show()"
      ],
      "metadata": {
        "colab": {
          "base_uri": "https://localhost:8080/",
          "height": 320
        },
        "id": "c4JEGWoiVFg_",
        "outputId": "43d7dfc7-8d4b-4724-df47-6ea47053497c"
      },
      "execution_count": 18,
      "outputs": [
        {
          "output_type": "display_data",
          "data": {
            "text/plain": [
              "<Figure size 720x360 with 1 Axes>"
            ],
            "image/png": "[encoded data removed]"
          },
          "metadata": {
            "needs_background": "light"
          }
        }
      ]
    },
    {
      "cell_type": "markdown",
      "source": [
        "### Histogram"
      ],
      "metadata": {
        "id": "N8ClR1_mXhwE"
      }
    },
    {
      "cell_type": "code",
      "source": [
        "fig, ax = plt.subplots(1)\n",
        "ax = clipped_meteorite_mass.plot.hist()\n",
        "plt.show()"
      ],
      "metadata": {
        "colab": {
          "base_uri": "https://localhost:8080/",
          "height": 265
        },
        "id": "tn678n3vXga3",
        "outputId": "cbad6bf9-ced3-4956-9aeb-24a0e7b63441"
      },
      "execution_count": null,
      "outputs": [
        {
          "output_type": "display_data",
          "data": {
            "text/plain": [
              "<Figure size 432x288 with 1 Axes>"
            ],
            "image/png": "[encoded data removed]"
          },
          "metadata": {
            "needs_background": "light"
          }
        }
      ]
    },
    {
      "cell_type": "code",
      "source": [
        "import scipy.stats\n",
        "\n",
        "mass_description = log_meteorite_mass.describe()\n",
        "mean = mass_description['mean']\n",
        "std = mass_description['std']\n",
        "print(\"Mean:\",mean)\n",
        "print(\"Standard deviation:\",std)\n",
        "\n",
        "normal_dist = stats.norm(loc = mean, scale = std)\n",
        "x = np.linspace(-20,20,500)\n",
        "y = normal_dist.pdf(x)\n",
        "\n",
        "fig,ax = plt.subplots(1)\n",
        "ax.plot(x, y)\n",
        "ax = log_meteorite_mass.plot.hist(density=True)\n",
        "plt.show()"
      ],
      "metadata": {
        "colab": {
          "base_uri": "https://localhost:8080/",
          "height": 301
        },
        "id": "aDrt-nfTYOvs",
        "outputId": "672c7994-47c9-47de-f957-d6c77f5bc2d8"
      },
      "execution_count": 19,
      "outputs": [
        {
          "output_type": "stream",
          "name": "stdout",
          "text": [
            "Mean: 3.7604079948723865\n",
            "Standard deviation: 2.5267828304349362\n"
          ]
        },
        {
          "output_type": "display_data",
          "data": {
            "text/plain": [
              "<Figure size 432x288 with 1 Axes>"
            ],
            "image/png": "[encoded data removed]"
          },
          "metadata": {
            "needs_background": "light"
          }
        }
      ]
    }
  ]
}