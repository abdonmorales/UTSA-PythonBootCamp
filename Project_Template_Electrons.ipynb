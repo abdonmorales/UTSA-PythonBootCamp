{
  "nbformat": 4,
  "nbformat_minor": 0,
  "metadata": {
    "colab": {
      "name": "Project Template Electrons.ipynb",
      "provenance": [],
      "include_colab_link": true
    },
    "kernelspec": {
      "name": "python3",
      "display_name": "Python 3"
    },
    "language_info": {
      "name": "python"
    }
  },
  "cells": [
    {
      "cell_type": "markdown",
      "metadata": {
        "id": "view-in-github",
        "colab_type": "text"
      },
      "source": [
        "<a href=\"https://colab.research.google.com/github/abdonmorales/UTSA-PythonBootCamp/blob/project/Project_Template_Electrons.ipynb\" target=\"_parent\"><img src=\"https://colab.research.google.com/assets/colab-badge.svg\" alt=\"Open In Colab\"/></a>"
      ]
    },
    {
      "cell_type": "code",
      "execution_count": null,
      "metadata": {
        "id": "wBdobyp706hz"
      },
      "outputs": [],
      "source": [
        "import pandas as pd\n",
        "import numpy as np\n",
        "import matplotlib.pyplot as plt"
      ]
    },
    {
      "cell_type": "markdown",
      "source": [
        "You will be working with data recorded at the jet propulsion lab at the California Institute of Technology. You can access the dataset [here](https://data.nasa.gov/dataset/Andersen-et-al-2020-SWJ-Fig-1-data/e6wj-e2uc). \n",
        "\n",
        "The dataset contains the average count per second of particles at different energy levels. The data was recorded by the Galileo spacecraft orbiting Jupiter at different oribits. \n",
        "\n",
        "You will work with 4 features from the dataset, which are described below:\n",
        "\n",
        "1.   B0 : Average counts per second of 3.2-10.1 MeV protons\n",
        "2.   B1 : Average counts per second of 1.5 - 10.5 MeV electrons\n",
        "3.   DC3 : Average counts per second of >11 MeV electrons\n",
        "4.   ORB : The orbit the recordings were made at.\n"
      ],
      "metadata": {
        "id": "XVkUnQDR1QQ_"
      }
    },
    {
      "cell_type": "code",
      "source": [
        "complete_electron_df = pd.read_csv('https://data.nasa.gov/api/views/e6wj-e2uc/rows.csv?accessType=DOWNLOAD')\n",
        "electron_df = complete_electron_df.loc[:,['B0','B1','DC3','ORB']]"
      ],
      "metadata": {
        "id": "qbCMRsQT1AtS"
      },
      "execution_count": null,
      "outputs": []
    },
    {
      "cell_type": "code",
      "source": [
        "print(electron_df.info())"
      ],
      "metadata": {
        "colab": {
          "base_uri": "https://localhost:8080/"
        },
        "id": "H5jjvryY1K1z",
        "outputId": "87cc3854-2b48-4920-9025-e862797fd71b"
      },
      "execution_count": null,
      "outputs": [
        {
          "output_type": "stream",
          "name": "stdout",
          "text": [
            "<class 'pandas.core.frame.DataFrame'>\n",
            "RangeIndex: 1075 entries, 0 to 1074\n",
            "Data columns (total 4 columns):\n",
            " #   Column  Non-Null Count  Dtype \n",
            "---  ------  --------------  ----- \n",
            " 0   B0      1075 non-null   int64 \n",
            " 1   B1      1075 non-null   int64 \n",
            " 2   DC3     1075 non-null   int64 \n",
            " 3   ORB     1075 non-null   object\n",
            "dtypes: int64(3), object(1)\n",
            "memory usage: 33.7+ KB\n",
            "None\n"
          ]
        }
      ]
    },
    {
      "cell_type": "code",
      "source": [
        ""
      ],
      "metadata": {
        "id": "bAsq5uEg5b-3"
      },
      "execution_count": null,
      "outputs": []
    }
  ]
}